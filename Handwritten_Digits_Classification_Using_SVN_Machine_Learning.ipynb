{
  "nbformat": 4,
  "nbformat_minor": 0,
  "metadata": {
    "colab": {
      "name": "Handwritten Digits Classification Using SVN Machine Learning.ipynb",
      "provenance": [],
      "collapsed_sections": []
    },
    "kernelspec": {
      "display_name": "Python 3",
      "language": "python",
      "name": "python3"
    },
    "language_info": {
      "codemirror_mode": {
        "name": "ipython",
        "version": 3
      },
      "file_extension": ".py",
      "mimetype": "text/x-python",
      "name": "python",
      "nbconvert_exporter": "python",
      "pygments_lexer": "ipython3",
      "version": "3.7.4"
    }
  },
  "cells": [
    {
      "cell_type": "markdown",
      "metadata": {
        "id": "Ps5x-gYUCf9_"
      },
      "source": [
        "# Handwritten Digits Classification"
      ]
    },
    {
      "cell_type": "markdown",
      "metadata": {
        "id": "0glR10XBCxNy"
      },
      "source": [
        "## Overview\n",
        "\n",
        "The MNIST database (Modified National Institute of Standards and Technology database) is a large database of handwritten digits that is commonly used for training various image processing systems. MNIST is like the \"Hello World\" of machine learning with which you can try out a few machine learning algorithms.\n",
        "\n",
        "![](https://upload.wikimedia.org/wikipedia/commons/2/27/MnistExamples.png)\n",
        "\n",
        "Each image is 28 pixels in height and 28 pixels in width, for a total of 784 pixels in total. Each pixel has a single pixel-value associated with it, indicating the lightness or darkness of that pixel, with higher numbers meaning lighter. This pixel-value is an integer between 0 and 255, inclusive.\n",
        "\n",
        "Visually, if we omit the \"pixel\" prefix, the pixels make up the image like this:\n",
        "```\n",
        "000 001 002 003 ... 026 027\n",
        "028 029 030 031 ... 054 055\n",
        "056 057 058 059 ... 082 083\n",
        " |   |   |   |  ...  |   |\n",
        "728 729 730 731 ... 754 755\n",
        "756 757 758 759 ... 782 783 \n",
        "```"
      ]
    },
    {
      "cell_type": "markdown",
      "metadata": {
        "id": "-3hGXfqVDRna"
      },
      "source": [
        "## Get Data"
      ]
    },
    {
      "cell_type": "code",
      "metadata": {
        "id": "4IWx_-bBEYAT"
      },
      "source": [
        "import numpy as np\n",
        "import pandas as pd\n",
        "import seaborn as sns\n",
        "import matplotlib.pyplot as plt\n",
        "%matplotlib inline\n",
        "\n",
        "import warnings\n",
        "warnings.filterwarnings('ignore')\n",
        "\n",
        "sns.set_style(\"whitegrid\")"
      ],
      "execution_count": 95,
      "outputs": []
    },
    {
      "cell_type": "code",
      "metadata": {
        "id": "BNhUbXb9CSbh",
        "colab": {
          "base_uri": "https://localhost:8080/"
        },
        "outputId": "99287534-3c03-40db-f14a-4aafa87755c7"
      },
      "source": [
        "from tensorflow.keras.datasets import mnist\n",
        "\n",
        "(X_train, y_train), (X_test, y_test) = mnist.load_data()\n",
        "\n",
        "print('Training data:', X_train.shape, y_train.shape) # training set\n",
        "print('Test data:', X_test.shape, y_test.shape) # validation set"
      ],
      "execution_count": 96,
      "outputs": [
        {
          "output_type": "stream",
          "text": [
            "Training data: (60000, 28, 28) (60000,)\n",
            "Test data: (10000, 28, 28) (10000,)\n"
          ],
          "name": "stdout"
        }
      ]
    },
    {
      "cell_type": "markdown",
      "metadata": {
        "id": "VYTtM9VlGs31"
      },
      "source": [
        "## EDA"
      ]
    },
    {
      "cell_type": "code",
      "metadata": {
        "id": "xcZURSKuDcvm"
      },
      "source": [
        "def plot_images(images, labels):\n",
        "    '''Plot images with their labels. Ten each row'''\n",
        "    plt.figure(figsize=(20, 10))\n",
        "    columns = 10\n",
        "    for i, image in enumerate(images):\n",
        "        ax = plt.subplot(len(images) / columns + 1, columns, i + 1)\n",
        "        ax.set_title(f\"{labels[i]}\", fontsize=16)\n",
        "        plt.axis('off')\n",
        "        plt.subplots_adjust(bottom=0.1)\n",
        "        plt.imshow(image, cmap='gray')\n",
        "\n",
        "def get_samples(n_samples, X, y):\n",
        "    '''Get n_samples images randomly'''\n",
        "    samples = np.random.choice(np.arange(len(y)), n_samples, replace=False)\n",
        "    return X[samples], y[samples]\n",
        "\n",
        "def get_digit(digit, n_samples, X, y):\n",
        "    '''Get n_samples images of the class digit randomly'''\n",
        "    y_digit = y[y == digit]\n",
        "    samples = np.random.choice(np.arange(len(y_digit)), n_samples, replace=False)\n",
        "    return X[y == digit][samples], y_digit[samples]"
      ],
      "execution_count": 97,
      "outputs": []
    },
    {
      "cell_type": "code",
      "metadata": {
        "id": "OpMe7EMCEF01",
        "colab": {
          "base_uri": "https://localhost:8080/",
          "height": 309
        },
        "outputId": "0f508dee-92a7-487b-be61-6fbbb6fa2dcb"
      },
      "source": [
        "n_samples = 30\n",
        "# images, labels = get_samples(n_samples, X_train, y_train)\n",
        "images, labels = get_digit(3, n_samples, X_train, y_train)\n",
        "plot_images(images, labels)"
      ],
      "execution_count": 98,
      "outputs": [
        {
          "output_type": "display_data",
          "data": {
            "image/png": "[encoded data removed]",
            "text/plain": [
              "<Figure size 1440x720 with 30 Axes>"
            ]
          },
          "metadata": {
            "tags": []
          }
        }
      ]
    },
    {
      "cell_type": "markdown",
      "metadata": {
        "id": "7Ld_PUJxrzN1"
      },
      "source": [
        "**Plot the barplot of number of images of each class (0 to 9)**"
      ]
    },
    {
      "cell_type": "code",
      "metadata": {
        "id": "xjVYEat8EJTd",
        "colab": {
          "base_uri": "https://localhost:8080/",
          "height": 282
        },
        "outputId": "ecb6da19-bf25-42a9-9392-82e80780a09a"
      },
      "source": [
        "# Your code here\n",
        "sns.countplot(y_test)"
      ],
      "execution_count": 99,
      "outputs": [
        {
          "output_type": "execute_result",
          "data": {
            "text/plain": [
              "<matplotlib.axes._subplots.AxesSubplot at 0x7fa769cf8990>"
            ]
          },
          "metadata": {
            "tags": []
          },
          "execution_count": 99
        },
        {
          "output_type": "display_data",
          "data": {
            "image/png": "[encoded data removed]",
            "text/plain": [
              "<Figure size 432x288 with 1 Axes>"
            ]
          },
          "metadata": {
            "tags": []
          }
        }
      ]
    },
    {
      "cell_type": "markdown",
      "metadata": {
        "id": "7M_TfQZUrzOG"
      },
      "source": [
        "**Print out the range of pixel values (min, max)**"
      ]
    },
    {
      "cell_type": "code",
      "metadata": {
        "colab": {
          "base_uri": "https://localhost:8080/"
        },
        "id": "E-0JAqZgBilx",
        "outputId": "f345c087-3780-4aa5-91ac-f5cf5b46fb74"
      },
      "source": [
        "print(\"Pixel value range:\", np.min(X_train), np.max(X_train))"
      ],
      "execution_count": 101,
      "outputs": [
        {
          "output_type": "stream",
          "text": [
            "Pixel value range: 0 255\n"
          ],
          "name": "stdout"
        }
      ]
    },
    {
      "cell_type": "markdown",
      "metadata": {
        "id": "XC2sFqfcJjQ1"
      },
      "source": [
        "## Transform data for training"
      ]
    },
    {
      "cell_type": "markdown",
      "metadata": {
        "id": "6W5AWXE2rzOj"
      },
      "source": [
        "**Get the first `n_samples` images randomly from training set and test set. Then reshape them into long vectors**"
      ]
    },
    {
      "cell_type": "code",
      "metadata": {
        "id": "XF1XGXrvJlri",
        "colab": {
          "base_uri": "https://localhost:8080/"
        },
        "outputId": "c3a1eea9-be7b-427c-bc99-d0e8e0ccbd57"
      },
      "source": [
        "n_samples = 2000\n",
        "n_test_samples = 400\n",
        "X_train_flat, y_train_flat = get_samples(n_samples, X_train, y_train)\n",
        "X_test_flat, y_test_flat = get_samples(n_test_samples, X_test, y_test)\n",
        "print(X_train_flat.shape,X_test_flat.shape)\n",
        "\n",
        "# Normalization\n",
        "X_train_flat = X_train_flat.reshape((n_samples, -1))/255\n",
        "X_test_flat = X_test_flat.reshape((n_test_samples, -1))/255"
      ],
      "execution_count": 102,
      "outputs": [
        {
          "output_type": "stream",
          "text": [
            "(2000, 28, 28) (400, 28, 28)\n"
          ],
          "name": "stdout"
        }
      ]
    },
    {
      "cell_type": "code",
      "metadata": {
        "id": "66rNQGgnK1MX",
        "colab": {
          "base_uri": "https://localhost:8080/"
        },
        "outputId": "5ce80fc9-58c6-4892-e23b-bb0f7749fb62"
      },
      "source": [
        "print('Training data', X_train_flat.shape)\n",
        "print('Test data', X_test_flat.shape)"
      ],
      "execution_count": 103,
      "outputs": [
        {
          "output_type": "stream",
          "text": [
            "Training data (2000, 784)\n",
            "Test data (400, 784)\n"
          ],
          "name": "stdout"
        }
      ]
    },
    {
      "cell_type": "code",
      "metadata": {
        "id": "59B4UG39o5N1",
        "colab": {
          "base_uri": "https://localhost:8080/",
          "height": 82
        },
        "outputId": "0abc5ee2-6ce5-4503-f597-69b6cbebcdfb"
      },
      "source": [
        "# Get all the data\n",
        "# Run it after you finish training with the 2000 samples\n",
        "# X_train_flat = X_train.reshape((-1, 784))\n",
        "# X_test_flat = X_test.reshape((-1, 784))\n",
        "# y_train_flat = y_train\n",
        "# y_test_flat = y_test\n",
        "\n",
        "# print('Training data', X_train_flat.shape)\n",
        "# print('Test data', X_test_flat.shape)\n",
        "# print('Training label', y_train_flat.shape)\n",
        "# print('Test label', y_test_flat.shape)"
      ],
      "execution_count": null,
      "outputs": [
        {
          "output_type": "stream",
          "text": [
            "Training data (60000, 784)\n",
            "Test data (10000, 784)\n",
            "Training label (60000,)\n",
            "Test label (10000,)\n"
          ],
          "name": "stdout"
        }
      ]
    },
    {
      "cell_type": "markdown",
      "metadata": {
        "id": "bmxGMEGGLaJI"
      },
      "source": [
        "## Train models"
      ]
    },
    {
      "cell_type": "code",
      "metadata": {
        "id": "4tJcSPEbLRsh"
      },
      "source": [
        "from sklearn.svm import SVC\n",
        "from sklearn.metrics import confusion_matrix, accuracy_score\n",
        "from sklearn.model_selection import cross_val_score\n",
        "from sklearn.model_selection import GridSearchCV"
      ],
      "execution_count": 104,
      "outputs": []
    },
    {
      "cell_type": "markdown",
      "metadata": {
        "id": "blM8JAmirzPb"
      },
      "source": [
        "**Train a SVM model**: Set up the training process and train with the small samples of data first before you take the full training dataset to train."
      ]
    },
    {
      "cell_type": "code",
      "metadata": {
        "id": "CIafedeOrzPe",
        "colab": {
          "base_uri": "https://localhost:8080/"
        },
        "outputId": "2425f6b2-2520-4fb5-d8f3-37b0dae33a64"
      },
      "source": [
        "### LINEAR SVM\n",
        "clf = SVC(kernel='linear', C=0.1)\n",
        "clf.fit(X_train_flat, y_train_flat)\n",
        "\n",
        "predicted = clf.predict(X_test_flat)\n",
        "\n",
        "# get the accuracy\n",
        "print(\"Accuracy Score Linear SVM: \", accuracy_score(y_test_flat, predicted))"
      ],
      "execution_count": 105,
      "outputs": [
        {
          "output_type": "stream",
          "text": [
            "Accuracy Score Linear SVM:  0.905\n"
          ],
          "name": "stdout"
        }
      ]
    },
    {
      "cell_type": "code",
      "metadata": {
        "id": "pvaD1rjKRDS6",
        "colab": {
          "base_uri": "https://localhost:8080/"
        },
        "outputId": "889bff36-85e9-48d3-f570-362ba533d6e1"
      },
      "source": [
        "### Kernel SVM\n",
        "clf1 = SVC(kernel='rbf', C=10)\n",
        "\n",
        "clf1.fit(X_train_flat, y_train_flat)\n",
        "\n",
        "predicted = clf1.predict(X_test_flat)\n",
        "\n",
        "# get the accuracy\n",
        "print(\"Accuracy Score Kernel SVM: \", accuracy_score(y_test_flat, predicted))\n",
        "\n",
        "\n"
      ],
      "execution_count": 106,
      "outputs": [
        {
          "output_type": "stream",
          "text": [
            "Accuracy Score Kernel SVM:  0.945\n"
          ],
          "name": "stdout"
        }
      ]
    },
    {
      "cell_type": "markdown",
      "metadata": {
        "id": "C7EdM3ZY0gei"
      },
      "source": [
        "You can use GridSearch to find the best set of hyperparameters. Take a look at GridSearchCV from Sklearn here (look at the example at the end): https://scikit-learn.org/stable/modules/generated/sklearn.model_selection.GridSearchCV.html"
      ]
    },
    {
      "cell_type": "code",
      "metadata": {
        "id": "zJ9HowQ1oajv"
      },
      "source": [
        "parameters = {'kernel':('linear', 'rbf'), 'C':[1, 10]}\n",
        "svc = svm.SVC()"
      ],
      "execution_count": 107,
      "outputs": []
    },
    {
      "cell_type": "code",
      "metadata": {
        "id": "ENUgYnAIv7BA",
        "colab": {
          "base_uri": "https://localhost:8080/"
        },
        "outputId": "f2fccfc6-6735-4704-d23b-a17abe45c31d"
      },
      "source": [
        "# Your code here\n",
        "\n",
        "gridsearch_models = GridSearchCV(svc, parameters, cv = 5, n_jobs = -1)\n",
        "\n",
        "gridsearch_models.fit(X_train_flat, y_train_flat)"
      ],
      "execution_count": 108,
      "outputs": [
        {
          "output_type": "execute_result",
          "data": {
            "text/plain": [
              "GridSearchCV(cv=5, error_score=nan,\n",
              "             estimator=SVC(C=1.0, break_ties=False, cache_size=200,\n",
              "                           class_weight=None, coef0=0.0,\n",
              "                           decision_function_shape='ovr', degree=3,\n",
              "                           gamma='scale', kernel='rbf', max_iter=-1,\n",
              "                           probability=False, random_state=None, shrinking=True,\n",
              "                           tol=0.001, verbose=False),\n",
              "             iid='deprecated', n_jobs=None,\n",
              "             param_grid={'C': [1, 10], 'kernel': ('linear', 'rbf')},\n",
              "             pre_dispatch='2*n_jobs', refit=True, return_train_score=False,\n",
              "             scoring=None, verbose=0)"
            ]
          },
          "metadata": {
            "tags": []
          },
          "execution_count": 108
        }
      ]
    },
    {
      "cell_type": "code",
      "metadata": {
        "id": "xakJOw-uxZZZ",
        "colab": {
          "base_uri": "https://localhost:8080/",
          "height": 326
        },
        "outputId": "e83db1d4-8bac-4d04-efbf-5d4ecab2a409"
      },
      "source": [
        "# print out the results\n",
        "pd.DataFrame(gridsearch_models.cv_results_)"
      ],
      "execution_count": 109,
      "outputs": [
        {
          "output_type": "execute_result",
          "data": {
            "text/html": [
              "<div>\n",
              "<style scoped>\n",
              "    .dataframe tbody tr th:only-of-type {\n",
              "        vertical-align: middle;\n",
              "    }\n",
              "\n",
              "    .dataframe tbody tr th {\n",
              "        vertical-align: top;\n",
              "    }\n",
              "\n",
              "    .dataframe thead th {\n",
              "        text-align: right;\n",
              "    }\n",
              "</style>\n",
              "<table border=\"1\" class=\"dataframe\">\n",
              "  <thead>\n",
              "    <tr style=\"text-align: right;\">\n",
              "      <th></th>\n",
              "      <th>mean_fit_time</th>\n",
              "      <th>std_fit_time</th>\n",
              "      <th>mean_score_time</th>\n",
              "      <th>std_score_time</th>\n",
              "      <th>param_C</th>\n",
              "      <th>param_kernel</th>\n",
              "      <th>params</th>\n",
              "      <th>split0_test_score</th>\n",
              "      <th>split1_test_score</th>\n",
              "      <th>split2_test_score</th>\n",
              "      <th>split3_test_score</th>\n",
              "      <th>split4_test_score</th>\n",
              "      <th>mean_test_score</th>\n",
              "      <th>std_test_score</th>\n",
              "      <th>rank_test_score</th>\n",
              "    </tr>\n",
              "  </thead>\n",
              "  <tbody>\n",
              "    <tr>\n",
              "      <th>0</th>\n",
              "      <td>1.113119</td>\n",
              "      <td>0.008100</td>\n",
              "      <td>0.402409</td>\n",
              "      <td>0.005581</td>\n",
              "      <td>1</td>\n",
              "      <td>linear</td>\n",
              "      <td>{'C': 1, 'kernel': 'linear'}</td>\n",
              "      <td>0.9200</td>\n",
              "      <td>0.8975</td>\n",
              "      <td>0.8875</td>\n",
              "      <td>0.8975</td>\n",
              "      <td>0.9100</td>\n",
              "      <td>0.9025</td>\n",
              "      <td>0.011292</td>\n",
              "      <td>3</td>\n",
              "    </tr>\n",
              "    <tr>\n",
              "      <th>1</th>\n",
              "      <td>2.160509</td>\n",
              "      <td>0.016188</td>\n",
              "      <td>0.566079</td>\n",
              "      <td>0.005712</td>\n",
              "      <td>1</td>\n",
              "      <td>rbf</td>\n",
              "      <td>{'C': 1, 'kernel': 'rbf'}</td>\n",
              "      <td>0.9450</td>\n",
              "      <td>0.9175</td>\n",
              "      <td>0.9300</td>\n",
              "      <td>0.9325</td>\n",
              "      <td>0.9400</td>\n",
              "      <td>0.9330</td>\n",
              "      <td>0.009407</td>\n",
              "      <td>2</td>\n",
              "    </tr>\n",
              "    <tr>\n",
              "      <th>2</th>\n",
              "      <td>1.112991</td>\n",
              "      <td>0.010540</td>\n",
              "      <td>0.402292</td>\n",
              "      <td>0.006307</td>\n",
              "      <td>10</td>\n",
              "      <td>linear</td>\n",
              "      <td>{'C': 10, 'kernel': 'linear'}</td>\n",
              "      <td>0.9200</td>\n",
              "      <td>0.8975</td>\n",
              "      <td>0.8875</td>\n",
              "      <td>0.8975</td>\n",
              "      <td>0.9100</td>\n",
              "      <td>0.9025</td>\n",
              "      <td>0.011292</td>\n",
              "      <td>3</td>\n",
              "    </tr>\n",
              "    <tr>\n",
              "      <th>3</th>\n",
              "      <td>2.127644</td>\n",
              "      <td>0.025586</td>\n",
              "      <td>0.555811</td>\n",
              "      <td>0.004075</td>\n",
              "      <td>10</td>\n",
              "      <td>rbf</td>\n",
              "      <td>{'C': 10, 'kernel': 'rbf'}</td>\n",
              "      <td>0.9475</td>\n",
              "      <td>0.9325</td>\n",
              "      <td>0.9375</td>\n",
              "      <td>0.9450</td>\n",
              "      <td>0.9525</td>\n",
              "      <td>0.9430</td>\n",
              "      <td>0.007141</td>\n",
              "      <td>1</td>\n",
              "    </tr>\n",
              "  </tbody>\n",
              "</table>\n",
              "</div>"
            ],
            "text/plain": [
              "   mean_fit_time  std_fit_time  ...  std_test_score  rank_test_score\n",
              "0       1.113119      0.008100  ...        0.011292                3\n",
              "1       2.160509      0.016188  ...        0.009407                2\n",
              "2       1.112991      0.010540  ...        0.011292                3\n",
              "3       2.127644      0.025586  ...        0.007141                1\n",
              "\n",
              "[4 rows x 15 columns]"
            ]
          },
          "metadata": {
            "tags": []
          },
          "execution_count": 109
        }
      ]
    },
    {
      "cell_type": "code",
      "metadata": {
        "id": "DtTjXahsxpgh",
        "colab": {
          "base_uri": "https://localhost:8080/"
        },
        "outputId": "4e38ccfa-676c-4dd9-99ba-9c42f5447940"
      },
      "source": [
        "print('Best params', gridsearch_models.best_params_)\n",
        "print('Best score', gridsearch_models.best_score_)"
      ],
      "execution_count": 110,
      "outputs": [
        {
          "output_type": "stream",
          "text": [
            "Best params {'C': 10, 'kernel': 'rbf'}\n",
            "Best score 0.943\n"
          ],
          "name": "stdout"
        }
      ]
    },
    {
      "cell_type": "code",
      "metadata": {
        "id": "yYoBam-Mx0xF"
      },
      "source": [
        "best_model = gridsearch_models.best_estimator_ # Model has been trained already. Cucial step.\n"
      ],
      "execution_count": 111,
      "outputs": []
    },
    {
      "cell_type": "markdown",
      "metadata": {
        "id": "rupa4m2jX5rm"
      },
      "source": [
        "## Evaluation"
      ]
    },
    {
      "cell_type": "markdown",
      "metadata": {
        "id": "UBh0Et0erzPs"
      },
      "source": [
        "**Get the predictions on test data**"
      ]
    },
    {
      "cell_type": "code",
      "metadata": {
        "id": "1rwL5VCIX9qi",
        "colab": {
          "base_uri": "https://localhost:8080/"
        },
        "outputId": "92822c10-3018-427f-ea57-1d80584f559c"
      },
      "source": [
        "# Your code here\n",
        "predictions = best_model.predict(X_test_flat)# predictions on test set\n",
        "print('Accuracy Score:', accuracy_score(y_test_flat, predictions))"
      ],
      "execution_count": 112,
      "outputs": [
        {
          "output_type": "stream",
          "text": [
            "Accuracy Score: 0.945\n"
          ],
          "name": "stdout"
        }
      ]
    },
    {
      "cell_type": "markdown",
      "metadata": {
        "id": "su0pvdthrzP9"
      },
      "source": [
        "**Plot the confusion matrix in form of a heatmap**"
      ]
    },
    {
      "cell_type": "code",
      "metadata": {
        "colab": {
          "base_uri": "https://localhost:8080/"
        },
        "id": "bsw0LtadprvL",
        "outputId": "be1c3960-bd8e-46d8-cb09-9fec35234612"
      },
      "source": [
        "confusion = confusion_matrix(y_test_flat, predictions)\n",
        "confusion"
      ],
      "execution_count": 113,
      "outputs": [
        {
          "output_type": "execute_result",
          "data": {
            "text/plain": [
              "array([[36,  0,  1,  0,  0,  0,  0,  0,  0,  0],\n",
              "       [ 0, 49,  0,  0,  0,  0,  0,  0,  0,  0],\n",
              "       [ 1,  0, 41,  1,  1,  0,  0,  0,  2,  0],\n",
              "       [ 1,  0,  2, 49,  0,  0,  0,  0,  0,  0],\n",
              "       [ 0,  0,  0,  0, 37,  0,  1,  0,  0,  2],\n",
              "       [ 0,  0,  0,  1,  1, 29,  0,  0,  0,  0],\n",
              "       [ 0,  0,  0,  0,  0,  0, 38,  0,  0,  0],\n",
              "       [ 0,  0,  0,  0,  0,  0,  0, 31,  0,  1],\n",
              "       [ 0,  0,  0,  1,  0,  0,  0,  0, 28,  0],\n",
              "       [ 1,  0,  0,  1,  2,  0,  0,  1,  1, 40]])"
            ]
          },
          "metadata": {
            "tags": []
          },
          "execution_count": 113
        }
      ]
    },
    {
      "cell_type": "code",
      "metadata": {
        "colab": {
          "base_uri": "https://localhost:8080/",
          "height": 656
        },
        "id": "Aqmk-uO_qixJ",
        "outputId": "306b4e18-2a88-4a46-d9ee-a4005db52b5d"
      },
      "source": [
        "plt.figure(figsize=(11,11))\n",
        "sns.heatmap(confusion, cbar=True, square= True, annot = True, linewidths=.5, vmin=25, vmax=50, cmap=\"Greens\")\n",
        "plt.title(\"Accuracy Score: 94.5%\")"
      ],
      "execution_count": 119,
      "outputs": [
        {
          "output_type": "execute_result",
          "data": {
            "text/plain": [
              "Text(0.5, 1.0, 'Accuracy Score: 94.5%')"
            ]
          },
          "metadata": {
            "tags": []
          },
          "execution_count": 119
        },
        {
          "output_type": "display_data",
          "data": {
            "image/png": "[encoded data removed]",
            "text/plain": [
              "<Figure size 792x792 with 2 Axes>"
            ]
          },
          "metadata": {
            "tags": []
          }
        }
      ]
    },
    {
      "cell_type": "markdown",
      "metadata": {
        "id": "mpMUVV4VrzQP"
      },
      "source": [
        "**Plot the samples that the model predicts incorrectly**"
      ]
    },
    {
      "cell_type": "markdown",
      "metadata": {
        "id": "xgpnB3iL3vNl"
      },
      "source": [
        "# Plotting Incorrect Model Predictions"
      ]
    },
    {
      "cell_type": "code",
      "metadata": {
        "colab": {
          "base_uri": "https://localhost:8080/"
        },
        "id": "twzwkCNgv5Dq",
        "outputId": "415c2575-f37d-4ebf-fe71-3f8c0cf0428e"
      },
      "source": [
        "mask = y_test_flat != predictions\n",
        "sum(mask)"
      ],
      "execution_count": 116,
      "outputs": [
        {
          "output_type": "execute_result",
          "data": {
            "text/plain": [
              "22"
            ]
          },
          "metadata": {
            "tags": []
          },
          "execution_count": 116
        }
      ]
    },
    {
      "cell_type": "code",
      "metadata": {
        "id": "-_uUXSpazDLu",
        "colab": {
          "base_uri": "https://localhost:8080/",
          "height": 382
        },
        "outputId": "f0c5987d-9b7f-4429-9d10-4096ed0583cc"
      },
      "source": [
        "# Your code here\n",
        "plot_images(X_test_flat[mask].reshape((22, 28,28)), predictions[mask])        \n"
      ],
      "execution_count": 117,
      "outputs": [
        {
          "output_type": "display_data",
          "data": {
            "image/png": "[encoded data removed]",
            "text/plain": [
              "<Figure size 1440x720 with 22 Axes>"
            ]
          },
          "metadata": {
            "tags": []
          }
        }
      ]
    },
    {
      "cell_type": "markdown",
      "metadata": {
        "id": "Y8O1Hh7LYNjP"
      },
      "source": [
        "## Save model"
      ]
    },
    {
      "cell_type": "code",
      "metadata": {
        "id": "C7cNiWsLYPTE"
      },
      "source": [
        "import pickle\n",
        "\n",
        "pickle.dump(clf, open('svm_mnist.pkl', 'wb'))"
      ],
      "execution_count": 118,
      "outputs": []
    },
    {
      "cell_type": "markdown",
      "metadata": {
        "id": "5B-g57XIYuH0"
      },
      "source": [
        "**Re-load model for testing**"
      ]
    },
    {
      "cell_type": "code",
      "metadata": {
        "id": "WDsYcxfzYd8F",
        "colab": {
          "base_uri": "https://localhost:8080/",
          "height": 33
        },
        "outputId": "1eba8d03-2181-4546-d9a5-4b36291a7856"
      },
      "source": [
        "# Your code here\n",
        "with open('svm_mnist.pkl', 'rb') as model:\n",
        "    reload_model = pickle.load(model)\n",
        "\n",
        "predictions = reload_model.predict(X_test_flat)\n",
        "print(f'Accuracy score: {accuracy_score(y_test_flat, predictions)}')"
      ],
      "execution_count": null,
      "outputs": [
        {
          "output_type": "stream",
          "text": [
            "Accuracy score: 0.78\n"
          ],
          "name": "stdout"
        }
      ]
    }
  ]
}